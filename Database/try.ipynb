{
 "cells": [
  {
   "cell_type": "code",
   "execution_count": 1,
   "metadata": {},
   "outputs": [],
   "source": [
    "import requests\n",
    "from bs4 import BeautifulSoup\n",
    "import pandas as pd\n",
    "\n",
    "response = requests.get(\"https://tutorialsdojo.com/amazon-aurora-vs-amazon-rds/\")"
   ]
  },
  {
   "cell_type": "code",
   "execution_count": 4,
   "metadata": {},
   "outputs": [],
   "source": [
    "\n",
    "\n",
    "soup = BeautifulSoup(response.content, \"html.parser\")\n",
    "table = soup.find(\"table\").text"
   ]
  },
  {
   "cell_type": "code",
   "execution_count": 5,
   "metadata": {},
   "outputs": [
    {
     "data": {
      "text/plain": [
       "'\\n\\n\\n\\n\\n\\n\\n\\n\\xa0\\n\\n\\n\\n\\xa0\\n\\n\\n\\n\\n\\n\\nAurora\\n\\n\\n\\n\\nRDS\\n\\n\\n\\n\\n\\nType of database\\n\\n\\n\\nRelational database\\n\\n\\n\\n\\n\\nFeatures\\n\\n\\n\\n• MySQL and PostgreSQL compatible.\\n\\n• 5x faster than standard MySQL databases and 3x faster than standard PostgreSQL databases.\\n\\n• Use Parallel Query to run transactional and analytical workloads in the same Aurora database, while maintaining high performance.\\n\\n• You can distribute and load balance your unique workloads across different sets of Aurora DB instances using custom endpoints.\\n\\n• Aurora Serverless allows for on-demand, autoscaling of your Aurora DB instance capacity.\\n\\n\\n\\n\\n• Has several database instance types for different kinds of workloads and support five database engines – MySQL, PostgreSQL, MariaDB, Oracle, and SQL Server.\\n\\n• Can use either General Purpose Storage and Provisioned IOPS storage to deliver a consistent IOPS performance\\n\\n\\n\\n\\n\\nMaximum storage capacity\\n\\n\\n128 TB\\n\\n\\n64 TB for MySQL, MariaDB, Oracle, and PostgreSQL engines\\n16 TB for SQL Server engine\\n\\n\\n\\n\\nDB instance classes\\n\\n\\n\\n\\n• Memory Optimized classes – for workloads that need to process large data sets in memory.\\n\\n\\n• Burstable classes – provides the instance the ability to burst to a higher level of CPU performance when required by the workload.\\n\\n\\n\\n\\n\\n\\n• Standard classes – for a wide range of workloads, you can use general purpose instance. It offers a balance of compute, memory, and networking resources.\\n\\n\\n• Memory Optimized classes – for workloads that need to process large data sets in memory.\\n\\n\\n• Burstable classes – provides the instance the ability to burst to a higher level of CPU performance when required by the workload.\\n\\n\\n\\n\\n\\n\\nAvailability and durability\\n\\n\\n\\n• Amazon Aurora uses RDS Multi-AZ technology to automate failover to one of up to 15 Amazon Aurora Replicas across three Availability Zones\\n\\n• Amazon Aurora Global Database uses storage-based replication to replicate a database across multiple AWS Regions, with typical latency of less than 1 second.\\n\\n• Self-healing: data blocks and disks are continuously scanned for errors and replaced automatically.\\n\\n\\n\\n\\n• Amazon RDS Multi-AZ deployments synchronously replicates your data to a standby instance in a different Availability Zone.\\n\\n• Amazon RDS will automatically replace the compute instance powering your deployment in the event of a hardware failure.\\n\\n\\n\\n\\n\\nBackups\\n\\n\\n\\n• Point-in-time recovery to restore your database to any second during your retention period, up to the last five minutes.\\n\\n• Automatic backup retention period up to thirty-five days.\\n\\n• Backtrack to the original database state without needing to restore data from a backup.\\n\\n\\n\\n\\n• The automated backup feature enables point-in-time recovery for your database instance.\\n\\n• Database snapshots are user-initiated backups of your instance stored in Amazon S3 that are kept until you explicitly delete them.\\n\\n\\n\\n\\n\\nScalability\\n\\n\\n\\n• Aurora automatically increases the size of your volumes as your database grows larger (increments of 10 GB).\\n\\n• Aurora also supports replica auto-scaling, where it automatically adds and removes DB replicas in response to changes in performance metrics.\\n\\n• Cross-region replicas provide fast local reads to your users, and each region can have an additional 15 Aurora replicas to further scale local reads.\\n\\n\\n\\n\\n• The MySQL, MariaDB, SQL Server, Oracle, and PostgreSQL engines scale your storage automatically as your database workload grows with zero downtime.\\n\\n• Read replicas are available for Amazon RDS for MySQL, MariaDB, PostgreSQL, Oracle, and SQL Server. Amazon RDS creates a second DB instance using a snapshot of the source DB instance and uses the engines’ native asynchronous replication to update the read replica whenever there is a change to the source.\\n\\n• Can scale compute and memory resources (vertically) of up to a maximum of 32 vCPUs and 244 GiB of RAM.\\n\\n\\n\\n\\n\\nSecurity\\n\\n\\n\\n• Isolate the database in your own virtual network via VPC.\\n\\n• Connect to your on-premises IT infrastructure using encrypted IPsec VPNs or Direct Connect and VPC Endpoints.\\n\\n• Configure security group firewall and network access rules to your database instances.\\n\\n• Integrates with IAM.\\n\\n\\n\\n\\n\\nEncryption\\n\\n\\n\\n• Encrypt your databases using keys you manage through AWS KMS. With Amazon Aurora encryption, data stored at rest is encrypted, as are its automated backups, snapshots, and replicas in the same cluster.\\n\\n• Supports the use of SSL (AES-256) to secure data in transit.\\n\\n\\n\\n\\n• Encrypt your databases using keys you manage through AWS KMS. With Amazon RDS encryption, data stored at rest is encrypted, as are its automated backups, read replicas, and snapshots.\\n\\n• Supports Transparent Data Encryption in SQL Server and Oracle.\\n\\n• Supports the use of SSL to secure data in transit\\n\\n\\n\\n\\n\\nDB Authentication\\n\\n\\n\\n• Password authentication\\n\\n• Password and IAM database authentication\\n\\n\\n\\n\\n• Password authentication\\n\\n• Password and IAM database authentication\\n\\n• Password and Kerberos authentication\\n\\n\\n\\n\\n\\nMaintenance\\n\\n\\n\\n• Amazon Aurora automatically updates the database with the latest patches.\\n\\n• Amazon Aurora Serverless enables you to run your database in the cloud without managing/maintaining any database infrastructure.\\n\\n\\n\\n\\n• Amazon RDS will update databases with the latest major and minor patches on scheduled maintenance windows. You can exert optional control over when and if your database instance is patched.\\n\\n\\n\\n\\n\\nMonitoring\\n\\n\\n\\n• Use Enhanced Monitoring to collect metrics from the operating system instance.\\n\\n• Use Performance Insights to detect database performance problems and take corrective action.\\n\\n• Uses Amazon SNS to receive a notification on database events.\\n\\n\\n\\n\\n\\nPricing\\n\\n\\n\\n• A monthly charge for each database instance that you launch if you use on-demand. This includes both the instance compute capacity and the amount of storage being used.\\n\\n• Option to reserve a DB instance for a one or three-year term (reserve instances) and receive discounts in pricing.\\n\\n\\n\\n\\n\\nUse Cases\\n\\n\\n\\n• Enterprise applications – a great option for any enterprise application that uses relational database since it handles provisioning, patching, backup, recovery, failure detection, and repair.\\n\\n• SaaS applications – without worrying about the underlying database that powers the application, you can concentrate on building high-quality applications.\\n\\n• Web and mobile gaming – since games need a database with high throughput, storage scalability, and must be highly available. Aurora suits the variable use pattern of these apps perfectly.\\n\\n\\n\\n\\n• Web and mobile applications – since the application needs a database with high throughput, storage scalability, and must be highly available. RDS also fulfills the needs of such highly demanding apps.\\n\\n• E-commerce applications – a managed database service that offers PCI compliance. You can just focus on building high-quality customer experiences without thinking of the underlying database.\\n\\n• Mobile and online games – game developers don’t need to worry about provisioning, scaling, and monitoring of database servers since RDS manages the database infrastructure.\\n\\n\\n\\n\\n'"
      ]
     },
     "execution_count": 5,
     "metadata": {},
     "output_type": "execute_result"
    }
   ],
   "source": [
    "table"
   ]
  },
  {
   "cell_type": "code",
   "execution_count": null,
   "metadata": {},
   "outputs": [],
   "source": []
  }
 ],
 "metadata": {
  "kernelspec": {
   "display_name": "webscarping",
   "language": "python",
   "name": "python3"
  },
  "language_info": {
   "codemirror_mode": {
    "name": "ipython",
    "version": 3
   },
   "file_extension": ".py",
   "mimetype": "text/x-python",
   "name": "python",
   "nbconvert_exporter": "python",
   "pygments_lexer": "ipython3",
   "version": "3.11.4"
  },
  "orig_nbformat": 4
 },
 "nbformat": 4,
 "nbformat_minor": 2
}
