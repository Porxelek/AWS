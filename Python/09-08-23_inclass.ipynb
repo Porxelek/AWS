{
 "cells": [
  {
   "cell_type": "code",
   "execution_count": 3,
   "metadata": {},
   "outputs": [
    {
     "ename": "ZeroDivisionError",
     "evalue": "division by zero",
     "output_type": "error",
     "traceback": [
      "\u001b[1;31m---------------------------------------------------------------------------\u001b[0m",
      "\u001b[1;31mZeroDivisionError\u001b[0m                         Traceback (most recent call last)",
      "Cell \u001b[1;32mIn[3], line 4\u001b[0m\n\u001b[0;32m      2\u001b[0m no_one \u001b[39m=\u001b[39m \u001b[39mint\u001b[39m(\u001b[39minput\u001b[39m(\u001b[39m\"\u001b[39m\u001b[39mThe first number please : \u001b[39m\u001b[39m\"\u001b[39m))\n\u001b[0;32m      3\u001b[0m no_two \u001b[39m=\u001b[39m \u001b[39mint\u001b[39m(\u001b[39minput\u001b[39m(\u001b[39m\"\u001b[39m\u001b[39mThe second number please : \u001b[39m\u001b[39m\"\u001b[39m))\n\u001b[1;32m----> 4\u001b[0m division \u001b[39m=\u001b[39m no_one \u001b[39m/\u001b[39;49m no_two\n\u001b[0;32m      5\u001b[0m \u001b[39mprint\u001b[39m(\u001b[39m\"\u001b[39m\u001b[39mThe result of the division is : \u001b[39m\u001b[39m\"\u001b[39m, division)\n\u001b[0;32m      6\u001b[0m \u001b[39mbreak\u001b[39;00m\n",
      "\u001b[1;31mZeroDivisionError\u001b[0m: division by zero"
     ]
    }
   ],
   "source": [
    "while True:\n",
    "    no_one = int(input(\"The first number please : \"))\n",
    "    no_two = int(input(\"The second number please : \"))\n",
    "    division = no_one / no_two\n",
    "    print(\"The result of the division is : \", division)\n",
    "    break"
   ]
  },
  {
   "cell_type": "markdown",
   "metadata": {},
   "source": [
    "try:\n",
    "    code block to be normally executed\n",
    "except:\n",
    "    code block to be exceptionally executed"
   ]
  },
  {
   "cell_type": "code",
   "execution_count": 5,
   "metadata": {},
   "outputs": [
    {
     "name": "stdout",
     "output_type": "stream",
     "text": [
      "Something went wrong! Try again.\n",
      "The result of the division is :  4.0\n"
     ]
    }
   ],
   "source": [
    "while True:\n",
    "    no_one = int(input(\"The first number please : \"))\n",
    "    no_two = int(input(\"The second number please : \"))\n",
    "    try:\n",
    "        division = no_one / no_two\n",
    "        print(\"The result of the division is : \", division)\n",
    "        break\n",
    "    except:\n",
    "        print(\"Something went wrong! Try again.\")"
   ]
  },
  {
   "cell_type": "code",
   "execution_count": 6,
   "metadata": {},
   "outputs": [
    {
     "name": "stdout",
     "output_type": "stream",
     "text": [
      "You can not divide zero! Try again.\n",
      "The result of the division is :  4.0\n"
     ]
    }
   ],
   "source": [
    "while True:\n",
    "    no_one = int(input(\"The first number please : \"))\n",
    "    no_two = int(input(\"The second number please : \"))\n",
    "    try:\n",
    "        division = no_one / no_two\n",
    "        print(\"The result of the division is : \", division)\n",
    "        break\n",
    "    except ZeroDivisionError:\n",
    "        print(\"You can not divide zero! Try again.\")"
   ]
  },
  {
   "cell_type": "code",
   "execution_count": 9,
   "metadata": {},
   "outputs": [
    {
     "ename": "ValueError",
     "evalue": "invalid literal for int() with base 10: 'k'",
     "output_type": "error",
     "traceback": [
      "\u001b[1;31m---------------------------------------------------------------------------\u001b[0m",
      "\u001b[1;31mValueError\u001b[0m                                Traceback (most recent call last)",
      "Cell \u001b[1;32mIn[9], line 3\u001b[0m\n\u001b[0;32m      1\u001b[0m \u001b[39mwhile\u001b[39;00m \u001b[39mTrue\u001b[39;00m:\n\u001b[0;32m      2\u001b[0m     no_one \u001b[39m=\u001b[39m \u001b[39mint\u001b[39m(\u001b[39minput\u001b[39m(\u001b[39m\"\u001b[39m\u001b[39mThe first number please : \u001b[39m\u001b[39m\"\u001b[39m))\n\u001b[1;32m----> 3\u001b[0m     no_two \u001b[39m=\u001b[39m \u001b[39mint\u001b[39;49m(\u001b[39minput\u001b[39;49m(\u001b[39m\"\u001b[39;49m\u001b[39mThe second number please : \u001b[39;49m\u001b[39m\"\u001b[39;49m))\n\u001b[0;32m      4\u001b[0m     \u001b[39mtry\u001b[39;00m:\n\u001b[0;32m      5\u001b[0m         division \u001b[39m=\u001b[39m no_one \u001b[39m/\u001b[39m no_two\n",
      "\u001b[1;31mValueError\u001b[0m: invalid literal for int() with base 10: 'k'"
     ]
    }
   ],
   "source": [
    "while True:\n",
    "    no_one = int(input(\"The first number please : \"))\n",
    "    no_two = int(input(\"The second number please : \"))\n",
    "    try:\n",
    "        division = no_one / no_two\n",
    "        print(\"The result of the division is : \", division)\n",
    "        break\n",
    "    except ZeroDivisionError:\n",
    "        print(\"You can not divide zero! Try again.\")\n",
    "    else:\n",
    "        print(\"The result of the division is : \", division)\n",
    "    finally:\n",
    "        print(\"Thanks for using our mini divison calculator! Come again!\")\n",
    "        "
   ]
  },
  {
   "cell_type": "code",
   "execution_count": 12,
   "metadata": {},
   "outputs": [
    {
     "name": "stdout",
     "output_type": "stream",
     "text": [
      "Something went wrong...Try again.\n",
      "Probably it is because of 'division by zero' error\n"
     ]
    }
   ],
   "source": [
    "while True: \n",
    "    try:\n",
    "        no_one = int(input(\"The first number please : \"))\n",
    "        no_two = int(input(\"The second number please : \"))\n",
    "        division = no_one / no_two\n",
    "        print(\"The result of the division is : \", division)\n",
    "        break\n",
    "    except Exception as e:\n",
    "        print(\"Something went wrong...Try again.\")\n",
    "        print(\"Probably it is because of '{}' error\".format(e))\n",
    "        break\n",
    "        "
   ]
  },
  {
   "cell_type": "code",
   "execution_count": 13,
   "metadata": {},
   "outputs": [
    {
     "name": "stdout",
     "output_type": "stream",
     "text": [
      "The error message is :  name 'c' is not defined\n"
     ]
    }
   ],
   "source": [
    "try :\n",
    "    a = 10\n",
    "    b = 2\n",
    "    print(\"The result of division is :\", c)\n",
    "except Exception as e:\n",
    "    print(\"The error message is : \", e)"
   ]
  },
  {
   "cell_type": "code",
   "execution_count": 16,
   "metadata": {},
   "outputs": [
    {
     "name": "stdout",
     "output_type": "stream",
     "text": [
      "Nothing went wrong. There is no exception\n"
     ]
    }
   ],
   "source": [
    "try:\n",
    "    x = 4 / 1\n",
    "except:\n",
    "    print('Something went wrong')\n",
    "else:\n",
    "    print('Nothing went wrong. There is no exception')"
   ]
  },
  {
   "cell_type": "code",
   "execution_count": 18,
   "metadata": {},
   "outputs": [
    {
     "name": "stdout",
     "output_type": "stream",
     "text": [
      "Something went wrong\n",
      "Always execute this\n"
     ]
    }
   ],
   "source": [
    "try:\n",
    "\tx = 3 / 0\n",
    "except:\n",
    "\tprint('Something went wrong')\n",
    "else:\n",
    "    print('Nothing went wrong. There is no exception')\n",
    "finally:\n",
    "\tprint('Always execute this')"
   ]
  },
  {
   "cell_type": "code",
   "execution_count": 20,
   "metadata": {},
   "outputs": [
    {
     "name": "stdout",
     "output_type": "stream",
     "text": [
      "Something went wrong\n",
      "no file\n"
     ]
    }
   ],
   "source": [
    "try:\n",
    "    f = open('myfile.txt')\n",
    "    print(f.read())\n",
    "except:\n",
    "    print(\"Something went wrong\")\n",
    "finally:\n",
    "    print(\"no file\")"
   ]
  },
  {
   "cell_type": "code",
   "execution_count": 21,
   "metadata": {},
   "outputs": [
    {
     "data": {
      "text/plain": [
       "['01-08-23_inclass.ipynb',\n",
       " '02-08-23_inclass.ipynb',\n",
       " '03-08-23_inclass.ipynb',\n",
       " '04-08-23_inclass.ipynb',\n",
       " '07-0823_inclass.ipynb',\n",
       " '08-08-23_inclass.ipynb',\n",
       " '09-08-23_inclass.ipynb',\n",
       " 'diary.txt',\n",
       " 'diary2.txt',\n",
       " 'first_file.txt',\n",
       " 'list.docx',\n",
       " 'modules.py',\n",
       " 'my_module.py',\n",
       " 'newfolder',\n",
       " 'test.py',\n",
       " 'test.txt',\n",
       " 'test2.ipynb',\n",
       " '__pycache__']"
      ]
     },
     "execution_count": 21,
     "metadata": {},
     "output_type": "execute_result"
    }
   ],
   "source": [
    "import os\n",
    "os.listdir()"
   ]
  },
  {
   "cell_type": "code",
   "execution_count": null,
   "metadata": {},
   "outputs": [],
   "source": [
    "JSON (Java Script Object Notation)"
   ]
  },
  {
   "cell_type": "code",
   "execution_count": 25,
   "metadata": {},
   "outputs": [
    {
     "name": "stdout",
     "output_type": "stream",
     "text": [
      "['JSONDecodeError', 'JSONDecoder', 'JSONEncoder', '__all__', '__author__', '__builtins__', '__cached__', '__doc__', '__file__', '__loader__', '__name__', '__package__', '__path__', '__spec__', '__version__', '_default_decoder', '_default_encoder', 'codecs', 'decoder', 'detect_encoding', 'dump', 'dumps', 'encoder', 'load', 'loads', 'scanner']\n"
     ]
    },
    {
     "data": {
      "text/plain": [
       "[1, 'string', 3]"
      ]
     },
     "execution_count": 25,
     "metadata": {},
     "output_type": "execute_result"
    }
   ],
   "source": [
    "import json\n",
    "print(dir(json))\n",
    "json.dumps(5)\n",
    "json.dumps([1,\"string\",3.0])\n",
    "json.loads('[1, \"string\", 3]')"
   ]
  },
  {
   "cell_type": "code",
   "execution_count": 44,
   "metadata": {},
   "outputs": [
    {
     "name": "stdout",
     "output_type": "stream",
     "text": [
      "Welcome, Fatih!\n"
     ]
    }
   ],
   "source": [
    "import json\n",
    "filename = 'userName.json' \n",
    "name = ''\n",
    "#Check for a history file \n",
    "try:\n",
    "    with open(filename, 'r') as r: # Load the user's name from the history  file \n",
    "        name = json.load(r)\n",
    "except IOError: \n",
    "    print(\"First-time login\")\n",
    "#If the user was found in the history file, welcome them back \n",
    "if name != \"\": \n",
    "    print(\"Welcome back, \" + name + \"!\")\n",
    "else: # If the history file doesn't exist, ask the user for their name\n",
    "    name = input(\"Hello! What's your name? \") \n",
    "    print(\"Welcome, \" + name + \"!\")\n",
    "#Save the user's name to the history file \n",
    "try:\n",
    "    with open(filename, 'w') as f: \n",
    "        json.dump(name, f)\n",
    "except IOError: \n",
    "    print(\"There was a problem writing to the history file.\")\n"
   ]
  },
  {
   "cell_type": "code",
   "execution_count": null,
   "metadata": {},
   "outputs": [],
   "source": [
    "The formula syntax is : pip command options"
   ]
  },
  {
   "cell_type": "code",
   "execution_count": 45,
   "metadata": {},
   "outputs": [],
   "source": [
    "def new_user(): # new_user adında bir function tanımladık\n",
    "    confirm = \"N\" # confirm değişkenimiz default \"N\"\n",
    "    while confirm != \"Y\": # While döngüsü confirm değişkeni \"N\" olduğu(\"Y\" ye eşit olmadığı) sürece devam edecek.         \n",
    "        username = input(\"Enter the name of the user to add: \") # username değişkeni tanımlayıp değeri inputla userdan istedik, eklemek istediği username\n",
    "        print(\"Use the username '\" + username + \"'? (Y/N)\") # printle bu usernamei kabul edip etmediğini sorduk, cevapı \"Y\"/\"N\" olarak istedik\n",
    "        confirm = input().upper() # verilecek cevabı her koşulda uppercase yaparak confirm değişkenine atadık\n",
    "    os.system(\"sudo adduser \" + username) #cevap \"Y\" ise döngüden çıkar ve os.system komutuyla terminale \"sudo adduser username\" yazdırır. Böylelikle sisteme yeni user eklemiş oluruz. Bir önceki adımda kullanıcı \"N\" cevabı verirse döngü başa döner"
   ]
  },
  {
   "cell_type": "code",
   "execution_count": 46,
   "metadata": {},
   "outputs": [
    {
     "name": "stdout",
     "output_type": "stream",
     "text": [
      "Use the username 'tugba'? (Y/N)\n"
     ]
    }
   ],
   "source": [
    "new_user()"
   ]
  },
  {
   "cell_type": "code",
   "execution_count": 49,
   "metadata": {},
   "outputs": [],
   "source": [
    "def remove_user(): \n",
    "    confirm = \"N\" \n",
    "    while confirm != \"Y\": \n",
    "        username = input(\"Enter the name of the user to remove: \") \n",
    "        print(\"Remove the user : '\" + username + \"'? (Y/N)\") \n",
    "        confirm = input().upper()\n",
    "    os.system(\"sudo userdel -r \" + username)"
   ]
  },
  {
   "cell_type": "code",
   "execution_count": 50,
   "metadata": {},
   "outputs": [
    {
     "name": "stdout",
     "output_type": "stream",
     "text": [
      "Remove the user : 'tugba'? (Y/N)\n"
     ]
    }
   ],
   "source": [
    "remove_user()"
   ]
  },
  {
   "cell_type": "code",
   "execution_count": 55,
   "metadata": {},
   "outputs": [],
   "source": [
    "import subprocess\n",
    "import os\n",
    "\n",
    "def add_user_to_group(): \n",
    "    username = input(\"Enter the name of the user that you want to add to a group: \") \n",
    "    output = subprocess.Popen('groups', stdout=subprocess.PIPE).communicate()[0] \n",
    "    print(\"Enter a list of groups to add the user to\") \n",
    "    print(\"The list should be separated by spaces, for example:\\r\\n group1 group2 group3\") \n",
    "    print(\"The available groups are: \" + str(output)) \n",
    "    chosenGroups = str(input(\"Groups: \"))\n",
    "    output = str(output).split(\" \")\n",
    "    chosenGroups = chosenGroups.split(\" \") \n",
    "    print(\"Add To:\") \n",
    "    found = True \n",
    "    groupString = \"\"\n",
    "    for grp in chosenGroups: \n",
    "        for existingGrp in output: \n",
    "            if grp == existingGrp: \n",
    "                found = True \n",
    "                print(\"-Existing Group : \" + grp) \n",
    "                groupString = groupString + grp + \",\"\n",
    "        if found == False: \n",
    "            print(\"-New Group : \" + grp) \n",
    "            groupString = groupString + grp + \",\"\n",
    "        else: found = False\n",
    "        groupString = groupString[:-1] + \" \" \n",
    "    confirm = \"\" \n",
    "    while confirm != \"Y\" and confirm != \"N\" : \n",
    "        print(\"Add user '\" + username + \"' to these groups? (Y/N)\") \n",
    "        confirm = input().upper()\n",
    "    if confirm == \"N\": \n",
    "        print(\"User '\" + username + \"' not added\")\n",
    "    elif confirm == \"Y\": \n",
    "        os.system(\"sudo usermod -aG \" + groupString + username) \n",
    "        print(\"User '\" + username + \"' added\")"
   ]
  },
  {
   "cell_type": "code",
   "execution_count": null,
   "metadata": {},
   "outputs": [],
   "source": [
    "def install_or_remove_packages(): \n",
    "    iOrR = \"\" \n",
    "    while iOrR != \"I\" and iOrR != \"R\": \n",
    "        print(\"Would you like to install or remove packages? (I/R)\") \n",
    "        iOrR = input().upper()\n",
    "    if iOrR == \"I\": \n",
    "        iOrR = \"install\"\n",
    "    elif iOrR == \"R\": \n",
    "        iOrR = \"remove\"\n",
    "    print(\"Enter a list of packages to install\") \n",
    "    print(\"The list should be separated by spaces, for example:\") \n",
    "    print(\" package1 package2 package3\") \n",
    "    print(\"Otherwise, input 'default' to \" + iOrR + \" the default packages listed in this program\") \n",
    "    packages = input().lower() \n",
    "    if packages == \"default\": \n",
    "        packages = defaultPackages\n",
    "    if iOrR == \"install\": \n",
    "        os.system(\"sudo yum install \" + packages)\n",
    "    elif iOrR == \"remove\": \n",
    "        while True: \n",
    "            print(\"Purge files after removing? (Y/N)\") \n",
    "            choice = input().upper() \n",
    "            if choice == \"Y\": \n",
    "                os.system(\"sudo yum --purge \" + iOrR + \" \" + packages) \n",
    "                break\n",
    "            elif choice == \"N\": \n",
    "                os.system(\"sudo yum \" + iOrR + \" \" + packages) \n",
    "                break\n",
    "        os.system(\"sudo yum autoremove\")\n",
    "        \n",
    "install_or_remove_packages()"
   ]
  },
  {
   "cell_type": "code",
   "execution_count": null,
   "metadata": {},
   "outputs": [],
   "source": [
    "def clean_environment():\n",
    "    os.system(\"sudo yum autoremove\") \n",
    "\n",
    "    \n",
    "clean_environment()"
   ]
  },
  {
   "cell_type": "code",
   "execution_count": null,
   "metadata": {},
   "outputs": [],
   "source": [
    "subprocess.run([\"python\", \"--version\"])"
   ]
  },
  {
   "cell_type": "code",
   "execution_count": 58,
   "metadata": {},
   "outputs": [
    {
     "ename": "TypeError",
     "evalue": "can only concatenate str (not \"int\") to str",
     "output_type": "error",
     "traceback": [
      "\u001b[1;31m---------------------------------------------------------------------------\u001b[0m",
      "\u001b[1;31mTypeError\u001b[0m                                 Traceback (most recent call last)",
      "Cell \u001b[1;32mIn[58], line 2\u001b[0m\n\u001b[0;32m      1\u001b[0m var \u001b[39m=\u001b[39m \u001b[39m\"\u001b[39m\u001b[39mDouble Value\u001b[39m\u001b[39m\"\u001b[39m \n\u001b[1;32m----> 2\u001b[0m sumvalue \u001b[39m=\u001b[39m var \u001b[39m+\u001b[39;49m \u001b[39m4\u001b[39;49m\n\u001b[0;32m      4\u001b[0m \u001b[39mdef\u001b[39;00m \u001b[39mdosomething\u001b[39m(valuetocheck): \n\u001b[0;32m      5\u001b[0m     \u001b[39mif\u001b[39;00m valuetocheck \u001b[39m>\u001b[39m \u001b[39m4\u001b[39m: \n",
      "\u001b[1;31mTypeError\u001b[0m: can only concatenate str (not \"int\") to str"
     ]
    }
   ],
   "source": [
    "var = \"Double Value\" \n",
    "sumvalue = var + 4\n",
    "\n",
    "def dosomething(valuetocheck): \n",
    "    if valuetocheck > 4: \n",
    "        print(\"Bad indent\")"
   ]
  }
 ],
 "metadata": {
  "kernelspec": {
   "display_name": "Python 3",
   "language": "python",
   "name": "python3"
  },
  "language_info": {
   "codemirror_mode": {
    "name": "ipython",
    "version": 3
   },
   "file_extension": ".py",
   "mimetype": "text/x-python",
   "name": "python",
   "nbconvert_exporter": "python",
   "pygments_lexer": "ipython3",
   "version": "3.11.4"
  },
  "orig_nbformat": 4
 },
 "nbformat": 4,
 "nbformat_minor": 2
}
