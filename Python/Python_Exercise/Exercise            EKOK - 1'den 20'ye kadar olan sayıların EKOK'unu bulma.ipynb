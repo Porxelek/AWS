{
  "cells": [
    {
      "cell_type": "markdown",
      "metadata": {
        "id": "wq0RstUJF3_r"
      },
      "source": [
        "**Exercise | ?comprehension | ?range() | ?len() | ?nested for loop() | ?any() | ?sum() | ?append()**\n",
        "\n",
        "2520 is the smallest number that can be divided by each of the numbers from 1 to 10 without any remainder.\n",
        "\n",
        "What is the smallest positive number that is evenly divisible by all of the numbers from 1 to 20?"
      ]
    },
    {
      "cell_type": "code",
      "execution_count": 1,
      "metadata": {
        "colab": {
          "base_uri": "https://localhost:8080/"
        },
        "id": "DWIs2RN7F4GS",
        "outputId": "8a3252a0-772d-43f6-8fae-a95f0e6098fd"
      },
      "outputs": [
        {
          "name": "stdout",
          "output_type": "stream",
          "text": [
            "232792560\n"
          ]
        }
      ],
      "source": [
        "nums = [i for i in range(1,21)]\n",
        "nums_prime = []\n",
        "\n",
        "for i in nums :\n",
        "  prime = []\n",
        "  for j in range(2,i) :\n",
        "    prime.append(i % j != 0)\n",
        "  if all(prime) and i != 1 :\n",
        "    nums_prime += [i]\n",
        "new_number = []\n",
        "while True :\n",
        "  for i in nums_prime :\n",
        "    temp = []\n",
        "    for j in range(len(nums)) :\n",
        "      temp.append(nums[j] % i == 0)\n",
        "      if nums[j] % i == 0 :\n",
        "        nums[j] = nums[j] // i\n",
        "    if any(temp) :\n",
        "      new_number += [i]\n",
        "  if sum(nums) == 20 :\n",
        "    break\n",
        "count = 1    \n",
        "for i in new_number :\n",
        "  count *= i\n",
        "print(count)"
      ]
    }
  ],
  "metadata": {
    "colab": {
      "collapsed_sections": [],
      "name": "Exercise xyz",
      "provenance": []
    },
    "kernelspec": {
      "display_name": "Python 3",
      "name": "python3"
    },
    "language_info": {
      "codemirror_mode": {
        "name": "ipython",
        "version": 3
      },
      "file_extension": ".py",
      "mimetype": "text/x-python",
      "name": "python",
      "nbconvert_exporter": "python",
      "pygments_lexer": "ipython3",
      "version": "3.8.10"
    }
  },
  "nbformat": 4,
  "nbformat_minor": 0
}
