{
 "cells": [
  {
   "cell_type": "code",
   "execution_count": 1,
   "metadata": {},
   "outputs": [
    {
     "name": "stdout",
     "output_type": "stream",
     "text": [
      "1 \n",
      "1 2 \n",
      "1 2 3 \n",
      "1 2 3 4 \n",
      "1 2 3 4 5 \n",
      "1 2 3 4 5 6 \n",
      "1 2 3 4 5 6 7 \n",
      "1 2 3 4 5 6 7 8 \n",
      "1 2 3 4 5 6 7 8 9 \n",
      "1 2 3 4 5 6 7 8 9 10 \n"
     ]
    }
   ],
   "source": [
    "row_numb = int(input(\"Please enter number of rows?: \"))\n",
    "for i in range(1, row_numb+ 1):\n",
    "    for j in range(1, i + 1):\n",
    "        print(j, end=\" \")\n",
    "    print(\"\")"
   ]
  },
  {
   "cell_type": "code",
   "execution_count": 5,
   "metadata": {},
   "outputs": [
    {
     "name": "stdout",
     "output_type": "stream",
     "text": [
      "         1 \n",
      "        1 2 \n",
      "       1 2 3 \n",
      "      1 2 3 4 \n",
      "     1 2 3 4 5 \n",
      "    1 2 3 4 5 6 \n",
      "   1 2 3 4 5 6 7 \n",
      "  1 2 3 4 5 6 7 8 \n",
      " 1 2 3 4 5 6 7 8 9 \n",
      "1 2 3 4 5 6 7 8 9 10 \n"
     ]
    }
   ],
   "source": [
    "satir_sayisi = int(input(\"Lütfen satır sayısını girin: \"))\n",
    "for i in range(1, satir_sayisi + 1):\n",
    "    bosluk_sayisi = satir_sayisi - i\n",
    "    print(\" \" * bosluk_sayisi, end=\"\")\n",
    "    for j in range(1, i + 1):\n",
    "        print(j, end=\" \")\n",
    "    print(\"\")"
   ]
  },
  {
   "cell_type": "code",
   "execution_count": 6,
   "metadata": {},
   "outputs": [
    {
     "name": "stdout",
     "output_type": "stream",
     "text": [
      "         1 \n",
      "        1 2 \n",
      "       1 2 3 \n",
      "      1 2 3 4 \n",
      "     1 2 3 4 5 \n",
      "    1 2 3 4 5 6 \n",
      "   1 2 3 4 5 6 7 \n",
      "  1 2 3 4 5 6 7 8 \n",
      " 1 2 3 4 5 6 7 8 9 \n",
      "1 2 3 4 5 6 7 8 9 10 \n"
     ]
    }
   ],
   "source": [
    "row_numb = int(input(\"Please enter number of rows?: \"))\n",
    "for space in range(1, row_numb+ 1):\n",
    "    space_count = row_numb - space\n",
    "    print(\" \" * space_count, end=\"\")\n",
    "    for row in range(1, space + 1):\n",
    "        print(row, end=\" \")\n",
    "    print(\"\")"
   ]
  },
  {
   "cell_type": "code",
   "execution_count": 7,
   "metadata": {},
   "outputs": [
    {
     "name": "stdout",
     "output_type": "stream",
     "text": [
      "         1 \n",
      "        1 2 \n",
      "       1 2 3 \n",
      "      1 2 3 4 \n",
      "     1 2 3 4 5 \n",
      "    1 2 3 4 5 6 \n",
      "   1 2 3 4 5 6 7 \n",
      "  1 2 3 4 5 6 7 8 \n",
      " 1 2 3 4 5 6 7 8 9 \n",
      "1 2 3 4 5 6 7 8 9 10 \n"
     ]
    }
   ],
   "source": [
    "row_numb = int(input(\"Please enter number of rows?: \"))\n",
    "for space in range(1, row_numb+ 1):\n",
    "    space_count = row_numb - space\n",
    "    print(\" \" * space_count, end=\"\")\n",
    "    for row in range(1, space + 1):\n",
    "        print(row, end=\" \")\n",
    "    print(\"\")"
   ]
  },
  {
   "cell_type": "code",
   "execution_count": null,
   "metadata": {},
   "outputs": [],
   "source": []
  }
 ],
 "metadata": {
  "kernelspec": {
   "display_name": "base",
   "language": "python",
   "name": "python3"
  },
  "language_info": {
   "codemirror_mode": {
    "name": "ipython",
    "version": 3
   },
   "file_extension": ".py",
   "mimetype": "text/x-python",
   "name": "python",
   "nbconvert_exporter": "python",
   "pygments_lexer": "ipython3",
   "version": "3.10.9"
  },
  "orig_nbformat": 4
 },
 "nbformat": 4,
 "nbformat_minor": 2
}
