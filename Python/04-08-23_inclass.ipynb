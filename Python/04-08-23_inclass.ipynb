{
 "cells": [
  {
   "cell_type": "code",
   "execution_count": 4,
   "metadata": {},
   "outputs": [
    {
     "name": "stdout",
     "output_type": "stream",
     "text": [
      "No such audience, stay at your home!\n"
     ]
    }
   ],
   "source": [
    "audience = \"baby\"\n",
    "\n",
    "if audience == \"kid\":\n",
    "    print(\"it is free to go to cinema\")\n",
    "elif audience == \"teen\":\n",
    "    print(\"discounted price!\")\n",
    "elif audience == \"adult\":\n",
    "    print(\"normal price\")\n",
    "else:\n",
    "    print(\"No such audience, stay at your home!\")"
   ]
  },
  {
   "cell_type": "markdown",
   "metadata": {},
   "source": [
    "Write a program that satisfies the given conditions below. Define the name of the variable as number.\n",
    "\n",
    "-If the number is equal or greater than 10, print : 'The number is equal or greater than 10',\n",
    "-If the number is less than 10, print : 'The number is less than 10'.\n",
    "\n",
    "Note that; Suppose the number is 23. number = 23 is pre-defined for you. You don't need to use the input() function or assign another value to variable number."
   ]
  },
  {
   "cell_type": "code",
   "execution_count": 5,
   "metadata": {},
   "outputs": [
    {
     "name": "stdout",
     "output_type": "stream",
     "text": [
      "The number is equal or greater than 10\n"
     ]
    }
   ],
   "source": [
    "number = 23\n",
    "if number >= 10:\n",
    "    print('The number is equal or greater than 10')\n",
    "else: \n",
    "    print('The number is less than 10')"
   ]
  },
  {
   "cell_type": "code",
   "execution_count": 8,
   "metadata": {},
   "outputs": [
    {
     "name": "stdout",
     "output_type": "stream",
     "text": [
      "discounted price!\n"
     ]
    }
   ],
   "source": [
    "audience_group = \"kid\", \"teen\", \"adult\"\n",
    "audience = \"adult\"\n",
    "\n",
    "if audience in audience_group:\n",
    "    if audience == \"kid\":\n",
    "        print(\"it is free to go to cinema\")\n",
    "    elif audience == \"teen\":\n",
    "        print(\"discounted price!\")\n",
    "    else: # audience == \"adult\":\n",
    "        print(\"normal price\")\n",
    "else:\n",
    "    print(\"No such audience, stay at your home!\")"
   ]
  },
  {
   "cell_type": "markdown",
   "metadata": {},
   "source": [
    "Sizden sınav puanınızı girmenizi isteyen ve sınav puanınıza göre derecenizin hangi aralıkta olduğunu hesaplayan bir program yazalım."
   ]
  },
  {
   "cell_type": "code",
   "execution_count": 14,
   "metadata": {},
   "outputs": [
    {
     "name": "stdout",
     "output_type": "stream",
     "text": [
      "A+\n"
     ]
    }
   ],
   "source": [
    "score = int(input(\"Lütfen notu giriniz: \"))\n",
    "\n",
    "if score >= 90:\n",
    "    if score >= 95:\n",
    "        print(\"A+\")\n",
    "    else:\n",
    "        print(\"A\")\n",
    "elif score >= 80: \n",
    "    if score >= 85:\n",
    "        print(\"B+\")\n",
    "    else:\n",
    "        print(\"B\")\n",
    "else:\n",
    "    print(\"below B\")\n",
    "        \n",
    "\n",
    "    "
   ]
  },
  {
   "cell_type": "code",
   "execution_count": null,
   "metadata": {},
   "outputs": [],
   "source": [
    "if condition:\n",
    "    print\n",
    "else:\n",
    "    print\n",
    "if condition:\n",
    "    print"
   ]
  },
  {
   "cell_type": "code",
   "execution_count": 16,
   "metadata": {},
   "outputs": [
    {
     "ename": "SyntaxError",
     "evalue": "invalid syntax (3850175249.py, line 1)",
     "output_type": "error",
     "traceback": [
      "\u001b[1;36m  Cell \u001b[1;32mIn[16], line 1\u001b[1;36m\u001b[0m\n\u001b[1;33m    elif:\u001b[0m\n\u001b[1;37m    ^\u001b[0m\n\u001b[1;31mSyntaxError\u001b[0m\u001b[1;31m:\u001b[0m invalid syntax\n"
     ]
    }
   ],
   "source": [
    "elif:\n",
    "    print\n",
    "if\n",
    "elif\n",
    "else:"
   ]
  },
  {
   "cell_type": "code",
   "execution_count": 21,
   "metadata": {},
   "outputs": [
    {
     "name": "stdout",
     "output_type": "stream",
     "text": [
      "Lütfen numeric bir değer girin\n",
      "Hasta mısın?Sayısal değer istiyoruz. Lütfen numeric bir değer girin\n"
     ]
    }
   ],
   "source": [
    "a = input(\"1. sayıyı giriniz\")\n",
    "b = input(\"2. sayıyı giriniz\")\n",
    "\n",
    "#a = \"beş\" a.isdigit True/False \n",
    "#b = \"5\"\n",
    "\n",
    "if not a.isdigit() or not b.isdigit():\n",
    "    print(\"Lütfen numeric bir değer girin\")\n",
    "    a = input(\"1. sayıyı giriniz\")\n",
    "    b = input(\"2. sayıyı giriniz\")\n",
    "    if not a.isdigit() or not b.isdigit():\n",
    "        print(\"Hasta mısın?Sayısal değer istiyoruz. Lütfen numeric bir değer girin\")       \n",
    "else:\n",
    "    output = int(a) - int(b)\n",
    "    print(output)"
   ]
  }
 ],
 "metadata": {
  "kernelspec": {
   "display_name": "Python 3",
   "language": "python",
   "name": "python3"
  },
  "language_info": {
   "codemirror_mode": {
    "name": "ipython",
    "version": 3
   },
   "file_extension": ".py",
   "mimetype": "text/x-python",
   "name": "python",
   "nbconvert_exporter": "python",
   "pygments_lexer": "ipython3",
   "version": "3.11.4"
  },
  "orig_nbformat": 4
 },
 "nbformat": 4,
 "nbformat_minor": 2
}
